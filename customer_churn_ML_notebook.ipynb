{
 "cells": [
  {
   "cell_type": "markdown",
   "metadata": {},
   "source": [
    "# Customer Churn Prediction Using Machine Learning\n",
    "## *Building a Model to Detect Churn in a Telco Company*\n",
    "## ________________________________________________________"
   ]
  },
  {
   "cell_type": "markdown",
   "metadata": {},
   "source": [
    "# Business Context"
   ]
  },
  {
   "cell_type": "markdown",
   "metadata": {},
   "source": [
    "> What is customer churn (or customer attrition) ?\n",
    "- Customers who stop subscribing to services provided by the company."
   ]
  },
  {
   "cell_type": "markdown",
   "metadata": {},
   "source": [
    "> Why do we care about customer churn?\n",
    "- Acquring a new customer is costly. So, we cannot afford to lose customers. \n",
    "- If we are able to retain a large portion of the existing customers, we can maintain business values."
   ]
  },
  {
   "cell_type": "markdown",
   "metadata": {},
   "source": [
    "> Why machine learning?\n",
    "- To prevent customer churning, we need to implement retaining strategies for the customers who are mostly to churn.\n",
    "- the ability to `predict churns in advance` will give us some times to apply counter measures. "
   ]
  },
  {
   "cell_type": "markdown",
   "metadata": {},
   "source": [
    "# Machine Learning Pipeline:\n",
    "## 1. Data Preparation\n",
    "## 2. Exploratory Data Analysis (EDA)\n",
    "## 3. Preprocessing\n",
    "## 4. Model Training and Evaluation\n",
    "## ___________________________________"
   ]
  },
  {
   "cell_type": "code",
   "execution_count": 48,
   "metadata": {},
   "outputs": [],
   "source": [
    "import pandas as pd\n",
    "import numpy as np\n",
    "import tkinter\n",
    "import matplotlib\n",
    "import matplotlib.pyplot as plt\n",
    "matplotlib.use('TkAgg')\n",
    "import seaborn as sns\n",
    "import plotly.express as px\n",
    "%matplotlib inline\n",
    "plt.style.use('seaborn')\n",
    "from statsmodels.stats.outliers_influence import variance_inflation_factor\n",
    "from statsmodels.tools.tools import add_constant\n",
    "from sklearn.model_selection import train_test_split, cross_val_score, StratifiedKFold, cross_val_predict, GridSearchCV\n",
    "from scipy import stats\n",
    "from sklearn.linear_model import LogisticRegression\n",
    "from sklearn.metrics import confusion_matrix, classification_report, plot_confusion_matrix, mean_absolute_error\n",
    "from sklearn.metrics import accuracy_score, precision_score, recall_score, f1_score, log_loss, roc_curve, roc_auc_score, precision_recall_curve\n",
    "from sklearn.tree import DecisionTreeClassifier\n",
    "from sklearn.ensemble import RandomForestClassifier, GradientBoostingClassifier\n",
    "from sklearn.svm import SVC\n",
    "from sklearn.dummy import DummyClassifier\n",
    "from sklearn.neighbors import KNeighborsClassifier\n",
    "from sklearn.naive_bayes import GaussianNB\n",
    "from sklearn.utils import class_weight\n",
    "from sklearn.preprocessing import StandardScaler, MinMaxScaler\n",
    "from sklearn.pipeline import Pipeline, make_pipeline\n",
    "sns.set(style='whitegrid')\n",
    "import warnings\n",
    "warnings.simplefilter(action=\"ignore\", category=FutureWarning)"
   ]
  },
  {
   "cell_type": "markdown",
   "metadata": {},
   "source": [
    "> Import Dataset"
   ]
  },
  {
   "cell_type": "code",
   "execution_count": 49,
   "metadata": {},
   "outputs": [],
   "source": [
    "data =  pd.read_excel('Merged_Data.xlsx')"
   ]
  },
  {
   "cell_type": "markdown",
   "metadata": {},
   "source": [
    "# 1. Data Preparation"
   ]
  },
  {
   "cell_type": "code",
   "execution_count": 50,
   "metadata": {},
   "outputs": [
    {
     "data": {
      "text/html": [
       "<div>\n",
       "<style scoped>\n",
       "    .dataframe tbody tr th:only-of-type {\n",
       "        vertical-align: middle;\n",
       "    }\n",
       "\n",
       "    .dataframe tbody tr th {\n",
       "        vertical-align: top;\n",
       "    }\n",
       "\n",
       "    .dataframe thead th {\n",
       "        text-align: right;\n",
       "    }\n",
       "</style>\n",
       "<table border=\"1\" class=\"dataframe\">\n",
       "  <thead>\n",
       "    <tr style=\"text-align: right;\">\n",
       "      <th></th>\n",
       "      <th>LoyaltyID</th>\n",
       "      <th>Customer ID</th>\n",
       "      <th>Senior Citizen</th>\n",
       "      <th>Partner</th>\n",
       "      <th>Dependents</th>\n",
       "      <th>Tenure</th>\n",
       "      <th>Phone Service</th>\n",
       "      <th>Multiple Lines</th>\n",
       "      <th>Internet Service</th>\n",
       "      <th>Online Security</th>\n",
       "      <th>...</th>\n",
       "      <th>Tenure Months</th>\n",
       "      <th>Churn Label</th>\n",
       "      <th>Churn Value</th>\n",
       "      <th>Churn Score</th>\n",
       "      <th>CLTV</th>\n",
       "      <th>Churn Reason</th>\n",
       "      <th>Quarter</th>\n",
       "      <th>Satisfaction Score</th>\n",
       "      <th>Customer Status</th>\n",
       "      <th>Churn Category</th>\n",
       "    </tr>\n",
       "  </thead>\n",
       "  <tbody>\n",
       "    <tr>\n",
       "      <th>0</th>\n",
       "      <td>318537</td>\n",
       "      <td>7590-VHVEG</td>\n",
       "      <td>No</td>\n",
       "      <td>Yes</td>\n",
       "      <td>No</td>\n",
       "      <td>1</td>\n",
       "      <td>No</td>\n",
       "      <td>No phone service</td>\n",
       "      <td>DSL</td>\n",
       "      <td>No</td>\n",
       "      <td>...</td>\n",
       "      <td>1</td>\n",
       "      <td>No</td>\n",
       "      <td>0</td>\n",
       "      <td>27</td>\n",
       "      <td>3964</td>\n",
       "      <td>NaN</td>\n",
       "      <td>Q3</td>\n",
       "      <td>3</td>\n",
       "      <td>Joined</td>\n",
       "      <td>NaN</td>\n",
       "    </tr>\n",
       "    <tr>\n",
       "      <th>1</th>\n",
       "      <td>152148</td>\n",
       "      <td>5575-GNVDE</td>\n",
       "      <td>No</td>\n",
       "      <td>No</td>\n",
       "      <td>No</td>\n",
       "      <td>34</td>\n",
       "      <td>Yes</td>\n",
       "      <td>No</td>\n",
       "      <td>DSL</td>\n",
       "      <td>Yes</td>\n",
       "      <td>...</td>\n",
       "      <td>34</td>\n",
       "      <td>No</td>\n",
       "      <td>0</td>\n",
       "      <td>61</td>\n",
       "      <td>3441</td>\n",
       "      <td>NaN</td>\n",
       "      <td>Q3</td>\n",
       "      <td>3</td>\n",
       "      <td>Stayed</td>\n",
       "      <td>NaN</td>\n",
       "    </tr>\n",
       "    <tr>\n",
       "      <th>2</th>\n",
       "      <td>326527</td>\n",
       "      <td>3668-QPYBK</td>\n",
       "      <td>No</td>\n",
       "      <td>No</td>\n",
       "      <td>No</td>\n",
       "      <td>2</td>\n",
       "      <td>Yes</td>\n",
       "      <td>No</td>\n",
       "      <td>DSL</td>\n",
       "      <td>Yes</td>\n",
       "      <td>...</td>\n",
       "      <td>2</td>\n",
       "      <td>Yes</td>\n",
       "      <td>1</td>\n",
       "      <td>86</td>\n",
       "      <td>3239</td>\n",
       "      <td>Competitor made better offer</td>\n",
       "      <td>Q3</td>\n",
       "      <td>1</td>\n",
       "      <td>Churned</td>\n",
       "      <td>Competitor</td>\n",
       "    </tr>\n",
       "    <tr>\n",
       "      <th>3</th>\n",
       "      <td>845894</td>\n",
       "      <td>7795-CFOCW</td>\n",
       "      <td>No</td>\n",
       "      <td>No</td>\n",
       "      <td>No</td>\n",
       "      <td>45</td>\n",
       "      <td>No</td>\n",
       "      <td>No phone service</td>\n",
       "      <td>DSL</td>\n",
       "      <td>Yes</td>\n",
       "      <td>...</td>\n",
       "      <td>45</td>\n",
       "      <td>No</td>\n",
       "      <td>0</td>\n",
       "      <td>66</td>\n",
       "      <td>4307</td>\n",
       "      <td>NaN</td>\n",
       "      <td>Q3</td>\n",
       "      <td>3</td>\n",
       "      <td>Stayed</td>\n",
       "      <td>NaN</td>\n",
       "    </tr>\n",
       "    <tr>\n",
       "      <th>4</th>\n",
       "      <td>503388</td>\n",
       "      <td>9237-HQITU</td>\n",
       "      <td>No</td>\n",
       "      <td>No</td>\n",
       "      <td>No</td>\n",
       "      <td>2</td>\n",
       "      <td>Yes</td>\n",
       "      <td>No</td>\n",
       "      <td>Fiber optic</td>\n",
       "      <td>No</td>\n",
       "      <td>...</td>\n",
       "      <td>2</td>\n",
       "      <td>Yes</td>\n",
       "      <td>1</td>\n",
       "      <td>67</td>\n",
       "      <td>2701</td>\n",
       "      <td>Moved</td>\n",
       "      <td>Q3</td>\n",
       "      <td>2</td>\n",
       "      <td>Churned</td>\n",
       "      <td>Other</td>\n",
       "    </tr>\n",
       "  </tbody>\n",
       "</table>\n",
       "<p>5 rows × 41 columns</p>\n",
       "</div>"
      ],
      "text/plain": [
       "   LoyaltyID Customer ID Senior Citizen Partner Dependents  Tenure  \\\n",
       "0     318537  7590-VHVEG             No     Yes         No       1   \n",
       "1     152148  5575-GNVDE             No      No         No      34   \n",
       "2     326527  3668-QPYBK             No      No         No       2   \n",
       "3     845894  7795-CFOCW             No      No         No      45   \n",
       "4     503388  9237-HQITU             No      No         No       2   \n",
       "\n",
       "  Phone Service    Multiple Lines Internet Service Online Security  ...  \\\n",
       "0            No  No phone service              DSL              No  ...   \n",
       "1           Yes                No              DSL             Yes  ...   \n",
       "2           Yes                No              DSL             Yes  ...   \n",
       "3            No  No phone service              DSL             Yes  ...   \n",
       "4           Yes                No      Fiber optic              No  ...   \n",
       "\n",
       "  Tenure Months Churn Label Churn Value Churn Score  CLTV  \\\n",
       "0             1          No           0          27  3964   \n",
       "1            34          No           0          61  3441   \n",
       "2             2         Yes           1          86  3239   \n",
       "3            45          No           0          66  4307   \n",
       "4             2         Yes           1          67  2701   \n",
       "\n",
       "                   Churn Reason Quarter Satisfaction Score  Customer Status  \\\n",
       "0                           NaN      Q3                  3           Joined   \n",
       "1                           NaN      Q3                  3           Stayed   \n",
       "2  Competitor made better offer      Q3                  1          Churned   \n",
       "3                           NaN      Q3                  3           Stayed   \n",
       "4                         Moved      Q3                  2          Churned   \n",
       "\n",
       "  Churn Category  \n",
       "0            NaN  \n",
       "1            NaN  \n",
       "2     Competitor  \n",
       "3            NaN  \n",
       "4          Other  \n",
       "\n",
       "[5 rows x 41 columns]"
      ]
     },
     "execution_count": 50,
     "metadata": {},
     "output_type": "execute_result"
    }
   ],
   "source": [
    "data.head()"
   ]
  },
  {
   "cell_type": "code",
   "execution_count": 51,
   "metadata": {},
   "outputs": [
    {
     "name": "stdout",
     "output_type": "stream",
     "text": [
      "<class 'pandas.core.frame.DataFrame'>\n",
      "RangeIndex: 7043 entries, 0 to 7042\n",
      "Data columns (total 41 columns):\n",
      " #   Column              Non-Null Count  Dtype  \n",
      "---  ------              --------------  -----  \n",
      " 0   LoyaltyID           7043 non-null   int64  \n",
      " 1   Customer ID         7043 non-null   object \n",
      " 2   Senior Citizen      7043 non-null   object \n",
      " 3   Partner             7043 non-null   object \n",
      " 4   Dependents          7043 non-null   object \n",
      " 5   Tenure              7043 non-null   int64  \n",
      " 6   Phone Service       7043 non-null   object \n",
      " 7   Multiple Lines      7043 non-null   object \n",
      " 8   Internet Service    7043 non-null   object \n",
      " 9   Online Security     7043 non-null   object \n",
      " 10  Online Backup       7043 non-null   object \n",
      " 11  Device Protection   7043 non-null   object \n",
      " 12  Tech Support        7043 non-null   object \n",
      " 13  Streaming TV        7043 non-null   object \n",
      " 14  Streaming Movies    7043 non-null   object \n",
      " 15  Contract            7043 non-null   object \n",
      " 16  Paperless Billing   7043 non-null   object \n",
      " 17  Payment Method      7043 non-null   object \n",
      " 18  Monthly Charges     7043 non-null   float64\n",
      " 19  Total Charges       7043 non-null   object \n",
      " 20  Churn               7043 non-null   object \n",
      " 21  CustomerID          7043 non-null   object \n",
      " 22  Count               7043 non-null   int64  \n",
      " 23  Country             7043 non-null   object \n",
      " 24  State               7043 non-null   object \n",
      " 25  City                7043 non-null   object \n",
      " 26  Zip Code            7043 non-null   int64  \n",
      " 27  Lat Long            7043 non-null   object \n",
      " 28  Latitude            7043 non-null   float64\n",
      " 29  Longitude           7043 non-null   float64\n",
      " 30  Gender              7043 non-null   object \n",
      " 31  Tenure Months       7043 non-null   int64  \n",
      " 32  Churn Label         7043 non-null   object \n",
      " 33  Churn Value         7043 non-null   int64  \n",
      " 34  Churn Score         7043 non-null   int64  \n",
      " 35  CLTV                7043 non-null   int64  \n",
      " 36  Churn Reason        1869 non-null   object \n",
      " 37  Quarter             7043 non-null   object \n",
      " 38  Satisfaction Score  7043 non-null   int64  \n",
      " 39  Customer Status     7043 non-null   object \n",
      " 40  Churn Category      1869 non-null   object \n",
      "dtypes: float64(3), int64(9), object(29)\n",
      "memory usage: 2.2+ MB\n"
     ]
    }
   ],
   "source": [
    "data.info()"
   ]
  },
  {
   "cell_type": "code",
   "execution_count": 52,
   "metadata": {},
   "outputs": [
    {
     "name": "stdout",
     "output_type": "stream",
     "text": [
      "Non-Numeric columns:\n",
      "Customer ID\n",
      "Senior Citizen\n",
      "Partner\n",
      "Dependents\n",
      "Phone Service\n",
      "Multiple Lines\n",
      "Internet Service\n",
      "Online Security\n",
      "Online Backup\n",
      "Device Protection\n",
      "Tech Support\n",
      "Streaming TV\n",
      "Streaming Movies\n",
      "Contract\n",
      "Paperless Billing\n",
      "Payment Method\n",
      "Total Charges\n",
      "Churn\n",
      "CustomerID\n",
      "Country\n",
      "State\n",
      "City\n",
      "Lat Long\n",
      "Gender\n",
      "Churn Label\n",
      "Churn Reason\n",
      "Quarter\n",
      "Customer Status\n",
      "Churn Category\n",
      "\n",
      "Numeric columns:\n",
      "LoyaltyID\n",
      "Tenure\n",
      "Monthly Charges\n",
      "Count\n",
      "Zip Code\n",
      "Latitude\n",
      "Longitude\n",
      "Tenure Months\n",
      "Churn Value\n",
      "Churn Score\n",
      "CLTV\n",
      "Satisfaction Score\n"
     ]
    }
   ],
   "source": [
    "#Check numeric and non-numeric columns\n",
    "cat_df = data.select_dtypes(include=['object'])\n",
    "num_df = data.select_dtypes(exclude=['object'])\n",
    "\n",
    "def printColumnTypes(non_numeric_df, numeric_df):\n",
    "    '''separates non-numeric and numeric columns'''\n",
    "    print(\"Non-Numeric columns:\")\n",
    "    for col in non_numeric_df:\n",
    "        print(f\"{col}\")\n",
    "    print(\"\")\n",
    "    print(\"Numeric columns:\")\n",
    "    for col in numeric_df:\n",
    "        print(f\"{col}\")\n",
    "        \n",
    "printColumnTypes(cat_df, num_df)"
   ]
  },
  {
   "cell_type": "code",
   "execution_count": 53,
   "metadata": {},
   "outputs": [
    {
     "name": "stdout",
     "output_type": "stream",
     "text": [
      "LoyaltyID - 0.0\n",
      "Customer ID - 0.0\n",
      "Senior Citizen - 0.0\n",
      "Partner - 0.0\n",
      "Dependents - 0.0\n",
      "Tenure - 0.0\n",
      "Phone Service - 0.0\n",
      "Multiple Lines - 0.0\n",
      "Internet Service - 0.0\n",
      "Online Security - 0.0\n",
      "Online Backup - 0.0\n",
      "Device Protection - 0.0\n",
      "Tech Support - 0.0\n",
      "Streaming TV - 0.0\n",
      "Streaming Movies - 0.0\n",
      "Contract - 0.0\n",
      "Paperless Billing - 0.0\n",
      "Payment Method - 0.0\n",
      "Monthly Charges - 0.0\n",
      "Total Charges - 0.0\n",
      "Churn - 0.0\n",
      "CustomerID - 0.0\n",
      "Count - 0.0\n",
      "Country - 0.0\n",
      "State - 0.0\n",
      "City - 0.0\n",
      "Zip Code - 0.0\n",
      "Lat Long - 0.0\n",
      "Latitude - 0.0\n",
      "Longitude - 0.0\n",
      "Gender - 0.0\n",
      "Tenure Months - 0.0\n",
      "Churn Label - 0.0\n",
      "Churn Value - 0.0\n",
      "Churn Score - 0.0\n",
      "CLTV - 0.0\n",
      "Churn Reason - 0.7346301292063041\n",
      "Quarter - 0.0\n",
      "Satisfaction Score - 0.0\n",
      "Customer Status - 0.0\n",
      "Churn Category - 0.7346301292063041\n"
     ]
    }
   ],
   "source": [
    "#Find % of missing data in each column\n",
    "for col in data.columns:\n",
    "    pct_missing = np.mean(data[col].isnull())\n",
    "    print('{} - {}'.format(col, pct_missing))"
   ]
  },
  {
   "cell_type": "markdown",
   "metadata": {},
   "source": [
    "## Problems:"
   ]
  },
  {
   "cell_type": "markdown",
   "metadata": {},
   "source": [
    "> `Missing values` in 'Churn Reason'"
   ]
  },
  {
   "cell_type": "markdown",
   "metadata": {},
   "source": [
    "> Some features with `incorrect data types`"
   ]
  },
  {
   "cell_type": "code",
   "execution_count": 54,
   "metadata": {},
   "outputs": [],
   "source": [
    "# Drop columns from data\n",
    "colsToDrop = ['Tenure Months', 'Count', 'Churn Label', \n",
    "              'LoyaltyID', 'Zip Code', 'State', 'Lat Long',\n",
    "              'Latitude', 'Longitude', 'Quarter', 'Country', 'Churn Category',\n",
    "              'City', 'Customer Status']\n",
    "data.drop(colsToDrop, axis=1, inplace=True)"
   ]
  },
  {
   "cell_type": "markdown",
   "metadata": {},
   "source": [
    "> Fill missing values in 'Churn Reason'. There were missing values because the customers who are not churners will not have churn reasons."
   ]
  },
  {
   "cell_type": "code",
   "execution_count": 55,
   "metadata": {},
   "outputs": [],
   "source": [
    "#Fill null values in 'Churn Category' and 'Churn Reason' columns\n",
    "data['Churn Reason'] = data['Churn Reason'].fillna('Not Churned')"
   ]
  },
  {
   "cell_type": "markdown",
   "metadata": {},
   "source": [
    "## Covert features into their correct data types"
   ]
  },
  {
   "cell_type": "code",
   "execution_count": 56,
   "metadata": {},
   "outputs": [],
   "source": [
    "#Convert 'Contract' column to category type\n",
    "data['Contract'] = data['Contract'].astype('category')\n",
    "data['Payment Method'] = data['Payment Method'].astype('category')\n",
    "data['Gender'] = data['Gender'].astype('category')\n",
    "data['Churn Reason'] = data['Churn Reason'].astype('category')"
   ]
  },
  {
   "cell_type": "markdown",
   "metadata": {},
   "source": [
    "> Set order of categories to 'Contract'"
   ]
  },
  {
   "cell_type": "code",
   "execution_count": 57,
   "metadata": {},
   "outputs": [],
   "source": [
    "data['Contract'] = data['Contract'].cat.set_categories(\n",
    "                                new_categories=['Month-to-month', 'One year', 'Two year'],\n",
    "                                ordered=True)"
   ]
  },
  {
   "cell_type": "markdown",
   "metadata": {},
   "source": [
    "> Since there are white spaces in the 'Total Charges' col, isnull() function will not consider them as missing values. White space is in 'obj' type as it is of string family.\n",
    "\n",
    "- To change the data type of this feature, to_numeric() is applied by passing coerce in the 'error' parameter."
   ]
  },
  {
   "cell_type": "code",
   "execution_count": 58,
   "metadata": {},
   "outputs": [],
   "source": [
    "#Convert str to flaot\n",
    "data['Total Charges'] = pd.to_numeric(data['Total Charges'], errors='coerce')"
   ]
  },
  {
   "cell_type": "markdown",
   "metadata": {},
   "source": [
    "> 11 missing values found after coverting 'Total Charges' to numeric  "
   ]
  },
  {
   "cell_type": "code",
   "execution_count": 59,
   "metadata": {},
   "outputs": [
    {
     "data": {
      "text/plain": [
       "11"
      ]
     },
     "execution_count": 59,
     "metadata": {},
     "output_type": "execute_result"
    }
   ],
   "source": [
    "data['Total Charges'].isnull().sum()"
   ]
  },
  {
   "cell_type": "markdown",
   "metadata": {},
   "source": [
    "> Drop those 11 observations"
   ]
  },
  {
   "cell_type": "code",
   "execution_count": 60,
   "metadata": {},
   "outputs": [],
   "source": [
    "#Drop rows that have missing values in 'Total Charges' column because the missing values account only 0.15% of the data\n",
    "data.dropna(inplace=True)\n",
    "\n",
    "# Reset index\n",
    "data.reset_index(drop=True, inplace=True)"
   ]
  },
  {
   "cell_type": "markdown",
   "metadata": {},
   "source": [
    "> A new col called 'Churn Category' is created from 'Churn Reason' col to summarize the main causes of churners:\n",
    "- Attitude\n",
    "- Competitor\n",
    "- Dissatisfaction\n",
    "- Price\n",
    "- Not Churned\n"
   ]
  },
  {
   "cell_type": "code",
   "execution_count": 61,
   "metadata": {},
   "outputs": [],
   "source": [
    "# Create a new 'Churn Category'\n",
    "values = ['Attitude', 'Competitor', 'Dissatisfaction', 'Price', 'Not Churned']\n",
    "conditions = list(map(data['Churn Reason'].str.contains, values))\n",
    "\n",
    "data['Churn Category'] = np.select(conditions, values, 'Other')"
   ]
  },
  {
   "cell_type": "markdown",
   "metadata": {},
   "source": [
    "# 2. EDA"
   ]
  },
  {
   "cell_type": "markdown",
   "metadata": {},
   "source": [
    "## Customer Attributes"
   ]
  },
  {
   "cell_type": "markdown",
   "metadata": {},
   "source": [
    "> The occurence of churns mostly happened among those who are:\n",
    "- not senior citizens\n",
    "- no partners\n",
    "- no dependents"
   ]
  },
  {
   "cell_type": "code",
   "execution_count": 62,
   "metadata": {},
   "outputs": [
    {
     "data": {
      "image/png": "[encoded data removed]",
      "text/plain": [
       "<Figure size 1080x720 with 4 Axes>"
      ]
     },
     "metadata": {},
     "output_type": "display_data"
    }
   ],
   "source": [
    "feature = ['Gender', 'Senior Citizen', 'Partner', 'Dependents']\n",
    "plt.figure(figsize=(15,10))\n",
    "plt.tight_layout()\n",
    "for i in enumerate(feature):\n",
    "    plt.subplot(2, 2, i[0]+1)\n",
    "    sns.countplot(i[1], hue='Churn', data = data, palette='flare')"
   ]
  },
  {
   "cell_type": "markdown",
   "metadata": {},
   "source": [
    "## Service Subscriptions"
   ]
  },
  {
   "cell_type": "markdown",
   "metadata": {},
   "source": [
    "> High number of churners in services:\n",
    "- Subcribe to a `home phone` service\n",
    "- Internet services:\n",
    "    - Use `fiber optic` as Internet service\n",
    "    - Don't use additional Internet support services such as `device protection plan` for internet equipment, `online security`, `tech support` and `online backup`\n",
    "- Entertainment services:\n",
    "    - Equal churn rate between those who use and do not use `streaming TV` and `streaming movies` services\n",
    "- Subcribe to `paperless billing`"
   ]
  },
  {
   "cell_type": "code",
   "execution_count": 63,
   "metadata": {},
   "outputs": [
    {
     "data": {
      "image/png": "[encoded data removed]",
      "text/plain": [
       "<Figure size 1080x1080 with 10 Axes>"
      ]
     },
     "metadata": {},
     "output_type": "display_data"
    }
   ],
   "source": [
    "feature = ['Phone Service', 'Multiple Lines', 'Internet Service',\n",
    "       'Online Security', 'Online Backup', 'Device Protection', 'Tech Support',\n",
    "       'Streaming TV', 'Streaming Movies', 'Paperless Billing']\n",
    "plt.figure(figsize=(15,15))\n",
    "for i in enumerate(feature):\n",
    "    plt.subplot(5, 2, i[0]+1)\n",
    "    sns.countplot(i[1], hue='Churn', data = data, palette='flare')\n",
    "plt.tight_layout(pad=2)"
   ]
  },
  {
   "cell_type": "markdown",
   "metadata": {},
   "source": [
    "## Continous Features"
   ]
  },
  {
   "cell_type": "markdown",
   "metadata": {},
   "source": [
    "> 50% of the churners had stayed with the company for `less than 10 months`."
   ]
  },
  {
   "cell_type": "markdown",
   "metadata": {},
   "source": [
    "> On a monthly basis, churners spent more than non-churners."
   ]
  },
  {
   "cell_type": "code",
   "execution_count": 64,
   "metadata": {},
   "outputs": [
    {
     "data": {
      "image/png": "[encoded data removed]",
      "text/plain": [
       "<Figure size 1152x432 with 3 Axes>"
      ]
     },
     "metadata": {},
     "output_type": "display_data"
    }
   ],
   "source": [
    "plt.figure(figsize=(16,6))\n",
    "plt.subplot(1, 3, 1)\n",
    "sns.boxplot(data=data, x='Tenure', palette='flare', y='Churn')\n",
    "\n",
    "plt.subplot(1, 3, 2)\n",
    "sns.boxplot(data=data, x='Monthly Charges', palette='flare', y='Churn')\n",
    "\n",
    "plt.subplot(1, 3, 3)\n",
    "sns.boxplot(data=data, x='Total Charges', palette='flare', y='Churn')\n",
    "plt.tight_layout(pad=3)"
   ]
  },
  {
   "cell_type": "markdown",
   "metadata": {},
   "source": [
    "## Others"
   ]
  },
  {
   "cell_type": "markdown",
   "metadata": {},
   "source": [
    "> Other features of the churners:\n",
    "- Most of the churners went to the `competitor` side.\n",
    "- `attiude` is also one of the factors that made them leave.\n",
    "- Mostly were `month-to-month` users.\n",
    "- A lot of them used `eletronic check` as a payment method"
   ]
  },
  {
   "cell_type": "code",
   "execution_count": 65,
   "metadata": {},
   "outputs": [
    {
     "data": {
      "image/png": "[encoded data removed]",
      "text/plain": [
       "<Figure size 1080x432 with 3 Axes>"
      ]
     },
     "metadata": {},
     "output_type": "display_data"
    }
   ],
   "source": [
    "a = (data['Churn Category'] != 'Not Churned') & (data['Churn Category'] != 'Other')\n",
    "b = data[a]\n",
    "\n",
    "plt.figure(figsize=(15,6))\n",
    "plt.subplot(1, 3, 1)\n",
    "sns.countplot(y='Churn Category', data=b, palette='flare', hue='Internet Service')\n",
    "\n",
    "plt.subplot(1, 3, 2)\n",
    "sns.countplot(y='Contract', hue='Churn', data=data, palette='flare')\n",
    "\n",
    "plt.subplot(1, 3, 3)\n",
    "sns.countplot(y='Payment Method', hue='Churn', data=data, palette='flare',\n",
    "              order=['Electronic check', 'Mailed check', 'Bank transfer (automatic)', 'Credit card (automatic)'])\n",
    "\n",
    "plt.tight_layout(pad=2)"
   ]
  },
  {
   "cell_type": "markdown",
   "metadata": {},
   "source": [
    "> Slightly Imbalanced Classed"
   ]
  },
  {
   "cell_type": "code",
   "execution_count": 66,
   "metadata": {},
   "outputs": [
    {
     "data": {
      "image/png": "[encoded data removed]",
      "text/plain": [
       "<Figure size 576x396 with 1 Axes>"
      ]
     },
     "metadata": {},
     "output_type": "display_data"
    }
   ],
   "source": [
    "data['Churn'].value_counts().plot(\n",
    "    kind='pie', y='', autopct='%1.0f%%',\n",
    "    colors=['lightcoral', 'cyan'], labels=['Not Churn', 'Churn'],\n",
    "    title='Slightly Imbalanced Classes')\n",
    "plt.show()"
   ]
  },
  {
   "cell_type": "markdown",
   "metadata": {},
   "source": [
    "# 3. Preprocessing"
   ]
  },
  {
   "cell_type": "markdown",
   "metadata": {},
   "source": [
    "> Make a new copy of dataset"
   ]
  },
  {
   "cell_type": "code",
   "execution_count": 67,
   "metadata": {},
   "outputs": [],
   "source": [
    "data_1 = data.copy()"
   ]
  },
  {
   "cell_type": "markdown",
   "metadata": {},
   "source": [
    "> Drop features which are not predictors"
   ]
  },
  {
   "cell_type": "code",
   "execution_count": 68,
   "metadata": {},
   "outputs": [],
   "source": [
    "colsToDrop = ['Customer ID', 'CustomerID', 'Churn Reason', 'Churn Score', 'Churn Value',\n",
    "              'CLTV', 'Satisfaction Score', 'Churn Category']\n",
    "\n",
    "data_1.drop(colsToDrop, axis=1, inplace=True)"
   ]
  },
  {
   "cell_type": "markdown",
   "metadata": {},
   "source": [
    "> Encode categorical features with 'Yes/No' values using a function"
   ]
  },
  {
   "cell_type": "code",
   "execution_count": 69,
   "metadata": {},
   "outputs": [],
   "source": [
    "#Defining the map function\n",
    "def binary_map(feature):\n",
    "    return feature.map({'Yes':1, 'No':0})\n",
    "\n",
    "## Encoding target feature\n",
    "data_1['Churn'] = data_1[['Churn']].apply(binary_map)\n",
    "\n",
    "#Encoding other binary category\n",
    "binary_list = ['Senior Citizen', 'Partner', 'Dependents', 'Phone Service', 'Paperless Billing']\n",
    "data_1[binary_list] = data_1[binary_list].apply(binary_map)"
   ]
  },
  {
   "cell_type": "markdown",
   "metadata": {},
   "source": [
    "> Encoding gender category"
   ]
  },
  {
   "cell_type": "code",
   "execution_count": 70,
   "metadata": {},
   "outputs": [],
   "source": [
    "# Encoding gender category\n",
    "data_1['Gender'] = data_1['Gender'].map({'Male':1, 'Female':0})"
   ]
  },
  {
   "cell_type": "markdown",
   "metadata": {},
   "source": [
    "> Encoding orninal variable"
   ]
  },
  {
   "cell_type": "code",
   "execution_count": 71,
   "metadata": {},
   "outputs": [],
   "source": [
    "mapper = {'Month-to-month': 1, 'One year': 2, 'Two year': 3}\n",
    "data_1['Contract'] = data_1['Contract'].replace(mapper)"
   ]
  },
  {
   "cell_type": "markdown",
   "metadata": {},
   "source": [
    "> Encoding the other categoric features with more than two categories"
   ]
  },
  {
   "cell_type": "code",
   "execution_count": 72,
   "metadata": {},
   "outputs": [],
   "source": [
    "data_1 = pd.get_dummies(data_1, drop_first=True)"
   ]
  },
  {
   "cell_type": "markdown",
   "metadata": {},
   "source": [
    "## Drop highly correlated features"
   ]
  },
  {
   "cell_type": "code",
   "execution_count": 73,
   "metadata": {},
   "outputs": [],
   "source": [
    "pr_data = data_1.copy()"
   ]
  },
  {
   "cell_type": "markdown",
   "metadata": {},
   "source": [
    "> To ensure two or more than two independent variables are highly corrlated (`Absence of Multicollinearity`)\n",
    "- Use `Variance Inflation Factor` or `VIF` to identify any significant multi-collinearity\n",
    "    - value below 5 or 10 = small collinearity"
   ]
  },
  {
   "cell_type": "code",
   "execution_count": 74,
   "metadata": {},
   "outputs": [],
   "source": [
    "#Drop columns\n",
    "colsToDrop = ['Internet Service_No', 'Online Security_No internet service',\n",
    "              'Online Backup_No internet service', 'Device Protection_No internet service', 'Tech Support_No internet service',\n",
    "              'Streaming TV_No internet service', 'Phone Service', 'Total Charges', 'Monthly Charges']\n",
    "\n",
    "pr_data.drop(colsToDrop, axis=1, inplace=True)"
   ]
  },
  {
   "cell_type": "code",
   "execution_count": 75,
   "metadata": {},
   "outputs": [
    {
     "data": {
      "text/html": [
       "<div>\n",
       "<style scoped>\n",
       "    .dataframe tbody tr th:only-of-type {\n",
       "        vertical-align: middle;\n",
       "    }\n",
       "\n",
       "    .dataframe tbody tr th {\n",
       "        vertical-align: top;\n",
       "    }\n",
       "\n",
       "    .dataframe thead th {\n",
       "        text-align: right;\n",
       "    }\n",
       "</style>\n",
       "<table border=\"1\" class=\"dataframe\">\n",
       "  <thead>\n",
       "    <tr style=\"text-align: right;\">\n",
       "      <th></th>\n",
       "      <th>variables</th>\n",
       "      <th>VIF</th>\n",
       "    </tr>\n",
       "  </thead>\n",
       "  <tbody>\n",
       "    <tr>\n",
       "      <th>0</th>\n",
       "      <td>Senior Citizen</td>\n",
       "      <td>1.364234</td>\n",
       "    </tr>\n",
       "    <tr>\n",
       "      <th>1</th>\n",
       "      <td>Partner</td>\n",
       "      <td>2.815452</td>\n",
       "    </tr>\n",
       "    <tr>\n",
       "      <th>2</th>\n",
       "      <td>Dependents</td>\n",
       "      <td>1.960723</td>\n",
       "    </tr>\n",
       "    <tr>\n",
       "      <th>3</th>\n",
       "      <td>Tenure</td>\n",
       "      <td>7.621072</td>\n",
       "    </tr>\n",
       "    <tr>\n",
       "      <th>4</th>\n",
       "      <td>Contract</td>\n",
       "      <td>10.770721</td>\n",
       "    </tr>\n",
       "    <tr>\n",
       "      <th>5</th>\n",
       "      <td>Paperless Billing</td>\n",
       "      <td>2.674922</td>\n",
       "    </tr>\n",
       "    <tr>\n",
       "      <th>6</th>\n",
       "      <td>Multiple Lines_No phone service</td>\n",
       "      <td>1.389751</td>\n",
       "    </tr>\n",
       "    <tr>\n",
       "      <th>7</th>\n",
       "      <td>Multiple Lines_Yes</td>\n",
       "      <td>2.432847</td>\n",
       "    </tr>\n",
       "    <tr>\n",
       "      <th>8</th>\n",
       "      <td>Internet Service_Fiber optic</td>\n",
       "      <td>3.127848</td>\n",
       "    </tr>\n",
       "    <tr>\n",
       "      <th>9</th>\n",
       "      <td>Online Security_Yes</td>\n",
       "      <td>1.934224</td>\n",
       "    </tr>\n",
       "    <tr>\n",
       "      <th>10</th>\n",
       "      <td>Online Backup_Yes</td>\n",
       "      <td>2.083199</td>\n",
       "    </tr>\n",
       "    <tr>\n",
       "      <th>11</th>\n",
       "      <td>Device Protection_Yes</td>\n",
       "      <td>2.249321</td>\n",
       "    </tr>\n",
       "    <tr>\n",
       "      <th>12</th>\n",
       "      <td>Tech Support_Yes</td>\n",
       "      <td>2.069614</td>\n",
       "    </tr>\n",
       "    <tr>\n",
       "      <th>13</th>\n",
       "      <td>Streaming TV_Yes</td>\n",
       "      <td>2.639534</td>\n",
       "    </tr>\n",
       "    <tr>\n",
       "      <th>14</th>\n",
       "      <td>Streaming Movies_No internet service</td>\n",
       "      <td>3.029038</td>\n",
       "    </tr>\n",
       "    <tr>\n",
       "      <th>15</th>\n",
       "      <td>Streaming Movies_Yes</td>\n",
       "      <td>2.669849</td>\n",
       "    </tr>\n",
       "    <tr>\n",
       "      <th>16</th>\n",
       "      <td>Payment Method_Credit card (automatic)</td>\n",
       "      <td>1.775021</td>\n",
       "    </tr>\n",
       "    <tr>\n",
       "      <th>17</th>\n",
       "      <td>Payment Method_Electronic check</td>\n",
       "      <td>2.294405</td>\n",
       "    </tr>\n",
       "    <tr>\n",
       "      <th>18</th>\n",
       "      <td>Payment Method_Mailed check</td>\n",
       "      <td>1.895236</td>\n",
       "    </tr>\n",
       "    <tr>\n",
       "      <th>19</th>\n",
       "      <td>Gender_1</td>\n",
       "      <td>1.913359</td>\n",
       "    </tr>\n",
       "  </tbody>\n",
       "</table>\n",
       "</div>"
      ],
      "text/plain": [
       "                                 variables        VIF\n",
       "0                           Senior Citizen   1.364234\n",
       "1                                  Partner   2.815452\n",
       "2                               Dependents   1.960723\n",
       "3                                   Tenure   7.621072\n",
       "4                                 Contract  10.770721\n",
       "5                        Paperless Billing   2.674922\n",
       "6          Multiple Lines_No phone service   1.389751\n",
       "7                       Multiple Lines_Yes   2.432847\n",
       "8             Internet Service_Fiber optic   3.127848\n",
       "9                      Online Security_Yes   1.934224\n",
       "10                       Online Backup_Yes   2.083199\n",
       "11                   Device Protection_Yes   2.249321\n",
       "12                        Tech Support_Yes   2.069614\n",
       "13                        Streaming TV_Yes   2.639534\n",
       "14    Streaming Movies_No internet service   3.029038\n",
       "15                    Streaming Movies_Yes   2.669849\n",
       "16  Payment Method_Credit card (automatic)   1.775021\n",
       "17         Payment Method_Electronic check   2.294405\n",
       "18             Payment Method_Mailed check   1.895236\n",
       "19                                Gender_1   1.913359"
      ]
     },
     "execution_count": 75,
     "metadata": {},
     "output_type": "execute_result"
    }
   ],
   "source": [
    "def calc_vif(df):\n",
    "    vif = pd.DataFrame()\n",
    "    vif[\"variables\"] = df.columns\n",
    "    vif[\"VIF\"] = [variance_inflation_factor(df.values, i) for i in range(df.shape[1])]\n",
    "    return(vif)\n",
    "\n",
    "calc_vif(pr_data.loc[:, pr_data.columns != 'Churn'])"
   ]
  },
  {
   "cell_type": "markdown",
   "metadata": {},
   "source": [
    "## Separate the dataset between predictors and target "
   ]
  },
  {
   "cell_type": "code",
   "execution_count": 76,
   "metadata": {},
   "outputs": [],
   "source": [
    "# select independent variables\n",
    "X = pr_data.drop(columns='Churn')\n",
    "\n",
    "# select dependent variables\n",
    "y = pr_data.loc[:, 'Churn']\n",
    "\n",
    "# prove that the variables were selected correctly\n",
    "#print(X.columns)\n",
    "\n",
    "# prove that the variables were selected correctly\n",
    "#print(y.name)"
   ]
  },
  {
   "cell_type": "markdown",
   "metadata": {},
   "source": [
    "# 4. Model Evaluation"
   ]
  },
  {
   "cell_type": "markdown",
   "metadata": {},
   "source": [
    "> Instantiate Stratified Kfold (5 K)"
   ]
  },
  {
   "cell_type": "code",
   "execution_count": 77,
   "metadata": {},
   "outputs": [],
   "source": [
    "skf = StratifiedKFold(n_splits = 5, random_state=42, shuffle=True)"
   ]
  },
  {
   "cell_type": "markdown",
   "metadata": {},
   "source": [
    "> Use `Cross Validation` to compare and train different models with `default parameters`."
   ]
  },
  {
   "cell_type": "markdown",
   "metadata": {},
   "source": [
    "> A pipeline is created to include two steps to loop through StandardScaler() and each algorithm."
   ]
  },
  {
   "cell_type": "markdown",
   "metadata": {},
   "source": [
    "> After training the data with the selected algorithms, the one that has highest ROC-AUC score will be used as a baseline model."
   ]
  },
  {
   "cell_type": "code",
   "execution_count": 78,
   "metadata": {},
   "outputs": [],
   "source": [
    "model_names = ['Logistic Regression', 'Random Forest', \n",
    "         'Decision Tree', 'Naive Bayes', 'SVC']\n",
    "\n",
    "classifiers = [\n",
    "    LogisticRegression(random_state=1),\n",
    "    RandomForestClassifier(random_state=1),\n",
    "    DecisionTreeClassifier(random_state=1),\n",
    "    GaussianNB(),\n",
    "    SVC(probability=True, random_state=1)\n",
    "    ]\n",
    "\n",
    "model_cols = []\n",
    "df=pd.DataFrame(columns=model_cols)\n",
    "index=0\n",
    "\n",
    "for name, clf in zip(model_names, classifiers):\n",
    "    # Define pipelines\n",
    "    steps = list()\n",
    "    steps.append(('scaler', StandardScaler()))\n",
    "    steps.append(('model', clf))\n",
    "    pl = Pipeline(steps=steps)\n",
    "    \n",
    "    # Evaluate models using cross validation and add the result to dataframe\n",
    "    df.loc[index,'Classifiers'] = name\n",
    "    df.loc[index,'Accuracy'] = cross_val_score(pl, X, y, scoring='accuracy', cv = skf).mean()\n",
    "    df.loc[index,'Precision'] = cross_val_score(pl, X, y, scoring='precision', cv = skf).mean()\n",
    "    df.loc[index,'Recall'] = cross_val_score(pl, X, y, scoring='recall', cv = skf).mean()\n",
    "    df.loc[index,'F1 Score'] = cross_val_score(pl, X, y, scoring='f1', cv = skf).mean()\n",
    "    df.loc[index, 'ROC-AUC'] = cross_val_score(pl, X, y, scoring='roc_auc', cv = skf).mean()\n",
    "    index+=1"
   ]
  },
  {
   "cell_type": "code",
   "execution_count": 79,
   "metadata": {},
   "outputs": [
    {
     "data": {
      "text/html": [
       "<div>\n",
       "<style scoped>\n",
       "    .dataframe tbody tr th:only-of-type {\n",
       "        vertical-align: middle;\n",
       "    }\n",
       "\n",
       "    .dataframe tbody tr th {\n",
       "        vertical-align: top;\n",
       "    }\n",
       "\n",
       "    .dataframe thead th {\n",
       "        text-align: right;\n",
       "    }\n",
       "</style>\n",
       "<table border=\"1\" class=\"dataframe\">\n",
       "  <thead>\n",
       "    <tr style=\"text-align: right;\">\n",
       "      <th></th>\n",
       "      <th>Classifiers</th>\n",
       "      <th>Accuracy</th>\n",
       "      <th>Precision</th>\n",
       "      <th>Recall</th>\n",
       "      <th>F1 Score</th>\n",
       "      <th>ROC-AUC</th>\n",
       "    </tr>\n",
       "  </thead>\n",
       "  <tbody>\n",
       "    <tr>\n",
       "      <th>0</th>\n",
       "      <td>Logistic Regression</td>\n",
       "      <td>0.802901</td>\n",
       "      <td>0.655516</td>\n",
       "      <td>0.545209</td>\n",
       "      <td>0.595229</td>\n",
       "      <td>0.843510</td>\n",
       "    </tr>\n",
       "    <tr>\n",
       "      <th>3</th>\n",
       "      <td>Naive Bayes</td>\n",
       "      <td>0.759953</td>\n",
       "      <td>0.534689</td>\n",
       "      <td>0.747466</td>\n",
       "      <td>0.623370</td>\n",
       "      <td>0.828348</td>\n",
       "    </tr>\n",
       "    <tr>\n",
       "      <th>1</th>\n",
       "      <td>Random Forest</td>\n",
       "      <td>0.785549</td>\n",
       "      <td>0.627518</td>\n",
       "      <td>0.476191</td>\n",
       "      <td>0.541217</td>\n",
       "      <td>0.811795</td>\n",
       "    </tr>\n",
       "    <tr>\n",
       "      <th>4</th>\n",
       "      <td>SVC</td>\n",
       "      <td>0.793089</td>\n",
       "      <td>0.650896</td>\n",
       "      <td>0.478331</td>\n",
       "      <td>0.551381</td>\n",
       "      <td>0.798880</td>\n",
       "    </tr>\n",
       "    <tr>\n",
       "      <th>2</th>\n",
       "      <td>Decision Tree</td>\n",
       "      <td>0.724686</td>\n",
       "      <td>0.482557</td>\n",
       "      <td>0.492241</td>\n",
       "      <td>0.487119</td>\n",
       "      <td>0.662914</td>\n",
       "    </tr>\n",
       "  </tbody>\n",
       "</table>\n",
       "</div>"
      ],
      "text/plain": [
       "           Classifiers  Accuracy  Precision    Recall  F1 Score   ROC-AUC\n",
       "0  Logistic Regression  0.802901   0.655516  0.545209  0.595229  0.843510\n",
       "3          Naive Bayes  0.759953   0.534689  0.747466  0.623370  0.828348\n",
       "1        Random Forest  0.785549   0.627518  0.476191  0.541217  0.811795\n",
       "4                  SVC  0.793089   0.650896  0.478331  0.551381  0.798880\n",
       "2        Decision Tree  0.724686   0.482557  0.492241  0.487119  0.662914"
      ]
     },
     "execution_count": 79,
     "metadata": {},
     "output_type": "execute_result"
    }
   ],
   "source": [
    "df.sort_values(by='ROC-AUC', ascending=False)"
   ]
  },
  {
   "cell_type": "markdown",
   "metadata": {},
   "source": [
    "## Selecting the model that has the highest ROC-AUC score"
   ]
  },
  {
   "cell_type": "code",
   "execution_count": 80,
   "metadata": {},
   "outputs": [
    {
     "data": {
      "image/png": "[encoded data removed]",
      "text/plain": [
       "<Figure size 576x396 with 1 Axes>"
      ]
     },
     "metadata": {},
     "output_type": "display_data"
    }
   ],
   "source": [
    "ax = sns.barplot(x='ROC-AUC', y='Classifiers', data=df, palette='flare'\n",
    "            , order=df.sort_values(by='ROC-AUC', ascending=False).set_index('Classifiers').index)\n",
    "for container in ax.containers:\n",
    "    ax.bar_label(container)\n",
    "    \n",
    "plt.show()"
   ]
  },
  {
   "cell_type": "code",
   "execution_count": 81,
   "metadata": {},
   "outputs": [
    {
     "data": {
      "image/png": "[encoded data removed]",
      "text/plain": [
       "<Figure size 1440x720 with 4 Axes>"
      ]
     },
     "metadata": {},
     "output_type": "display_data"
    }
   ],
   "source": [
    "fig, ax = plt.subplots(2, 2, sharex=True, figsize=(20,10))\n",
    "custom_xlim = (0, .85)\n",
    "\n",
    "plt.setp(ax, xlim = custom_xlim)\n",
    "\n",
    "sns.barplot(x='Precision', y='Classifiers', data=df, palette='flare', order=df.sort_values(by='Precision', ascending=False).set_index('Classifiers').index, ax=ax[0, 0])\n",
    "\n",
    "sns.barplot(x='Recall', y='Classifiers', data=df, palette='flare', order=df.sort_values(by='Recall', ascending=False).set_index('Classifiers').index, ax=ax[0, 1])\n",
    "\n",
    "sns.barplot(x='Accuracy', y='Classifiers', data=df, palette='flare', order=df.sort_values(by='Accuracy', ascending=False).set_index('Classifiers').index, ax=ax[1, 0])\n",
    "\n",
    "sns.barplot(x='F1 Score', y='Classifiers', data=df, palette='flare', order=df.sort_values(by='F1 Score', ascending=False).set_index('Classifiers').index, ax=ax[1, 1])\n",
    "\n",
    "plt.show()"
   ]
  },
  {
   "cell_type": "markdown",
   "metadata": {},
   "source": [
    "## Hyperparameter tuning"
   ]
  },
  {
   "cell_type": "code",
   "execution_count": 82,
   "metadata": {},
   "outputs": [],
   "source": [
    "X1 = X.copy()\n",
    "y1 = y.copy()"
   ]
  },
  {
   "cell_type": "markdown",
   "metadata": {},
   "source": [
    "> When spliting the data using `train_test_split`, the `stratify` param. is used to ensure equal classes in each subset."
   ]
  },
  {
   "cell_type": "code",
   "execution_count": 83,
   "metadata": {},
   "outputs": [],
   "source": [
    "# split data into train and test sets\n",
    "X_train, X_test, y_train, y_test = train_test_split(X1, y1, test_size=0.20, random_state=42, stratify=y)"
   ]
  },
  {
   "cell_type": "markdown",
   "metadata": {},
   "source": [
    "> Create parameter grid."
   ]
  },
  {
   "cell_type": "code",
   "execution_count": 84,
   "metadata": {},
   "outputs": [],
   "source": [
    "param_grid = [    \n",
    "    {'penalty' : ['l1', 'l2', 'elasticnet', 'none'],\n",
    "    'C' : np.logspace(-4, 4, 20),\n",
    "    'solver' : ['lbfgs','newton-cg','liblinear','sag','saga'],\n",
    "    'max_iter' : [100, 1000,2500, 5000]\n",
    "    }\n",
    "]"
   ]
  },
  {
   "cell_type": "markdown",
   "metadata": {},
   "source": [
    "> Make a pipeline to include `StandardScaler()` and `GridSearchCV()`"
   ]
  },
  {
   "cell_type": "code",
   "execution_count": 85,
   "metadata": {},
   "outputs": [],
   "source": [
    "pipe_LR = make_pipeline(StandardScaler(),\n",
    "                        GridSearchCV(LogisticRegression(random_state=1),\n",
    "                                     param_grid=param_grid,\n",
    "                                     cv = 5,\n",
    "                                     verbose=True,\n",
    "                                     n_jobs=-1,\n",
    "                                     refit=True)\n",
    ")"
   ]
  },
  {
   "cell_type": "markdown",
   "metadata": {},
   "source": [
    "> Fit pipeline"
   ]
  },
  {
   "cell_type": "code",
   "execution_count": 86,
   "metadata": {},
   "outputs": [
    {
     "name": "stdout",
     "output_type": "stream",
     "text": [
      "Fitting 5 folds for each of 1600 candidates, totalling 8000 fits\n"
     ]
    }
   ],
   "source": [
    "gridresult = pipe_LR.fit(X_train, y_train)"
   ]
  },
  {
   "cell_type": "markdown",
   "metadata": {},
   "source": [
    "> Get best estimator"
   ]
  },
  {
   "cell_type": "code",
   "execution_count": 87,
   "metadata": {},
   "outputs": [
    {
     "data": {
      "text/plain": [
       "LogisticRegression(C=0.08858667904100823, penalty='l1', random_state=1,\n",
       "                   solver='saga')"
      ]
     },
     "execution_count": 87,
     "metadata": {},
     "output_type": "execute_result"
    }
   ],
   "source": [
    "gridresult.named_steps['gridsearchcv'].best_estimator_"
   ]
  },
  {
   "cell_type": "markdown",
   "metadata": {},
   "source": [
    "> Show best params"
   ]
  },
  {
   "cell_type": "code",
   "execution_count": 88,
   "metadata": {},
   "outputs": [
    {
     "data": {
      "text/plain": [
       "{'C': 0.08858667904100823, 'max_iter': 100, 'penalty': 'l1', 'solver': 'saga'}"
      ]
     },
     "execution_count": 88,
     "metadata": {},
     "output_type": "execute_result"
    }
   ],
   "source": [
    "gridresult.named_steps['gridsearchcv'].best_params_"
   ]
  },
  {
   "cell_type": "markdown",
   "metadata": {},
   "source": [
    "> Get predictions"
   ]
  },
  {
   "cell_type": "code",
   "execution_count": 89,
   "metadata": {},
   "outputs": [],
   "source": [
    "y_pred = gridresult.predict(X_test)"
   ]
  },
  {
   "cell_type": "markdown",
   "metadata": {},
   "source": [
    "> Create a dataframe to show metrics"
   ]
  },
  {
   "cell_type": "code",
   "execution_count": 90,
   "metadata": {},
   "outputs": [
    {
     "data": {
      "text/html": [
       "<div>\n",
       "<style scoped>\n",
       "    .dataframe tbody tr th:only-of-type {\n",
       "        vertical-align: middle;\n",
       "    }\n",
       "\n",
       "    .dataframe tbody tr th {\n",
       "        vertical-align: top;\n",
       "    }\n",
       "\n",
       "    .dataframe thead th {\n",
       "        text-align: right;\n",
       "    }\n",
       "</style>\n",
       "<table border=\"1\" class=\"dataframe\">\n",
       "  <thead>\n",
       "    <tr style=\"text-align: right;\">\n",
       "      <th></th>\n",
       "      <th>Classifiers</th>\n",
       "      <th>Accuracy</th>\n",
       "      <th>Precision</th>\n",
       "      <th>Recall</th>\n",
       "      <th>F1 Score</th>\n",
       "      <th>ROC-AUC</th>\n",
       "    </tr>\n",
       "  </thead>\n",
       "  <tbody>\n",
       "    <tr>\n",
       "      <th>0</th>\n",
       "      <td>Logistic Regression</td>\n",
       "      <td>0.802901</td>\n",
       "      <td>0.655516</td>\n",
       "      <td>0.545209</td>\n",
       "      <td>0.595229</td>\n",
       "      <td>0.84351</td>\n",
       "    </tr>\n",
       "    <tr>\n",
       "      <th>5</th>\n",
       "      <td>New Logistic Regression</td>\n",
       "      <td>0.804549</td>\n",
       "      <td>0.651376</td>\n",
       "      <td>0.569519</td>\n",
       "      <td>0.607703</td>\n",
       "      <td>0.72958</td>\n",
       "    </tr>\n",
       "  </tbody>\n",
       "</table>\n",
       "</div>"
      ],
      "text/plain": [
       "               Classifiers  Accuracy  Precision    Recall  F1 Score  ROC-AUC\n",
       "0      Logistic Regression  0.802901   0.655516  0.545209  0.595229  0.84351\n",
       "5  New Logistic Regression  0.804549   0.651376  0.569519  0.607703  0.72958"
      ]
     },
     "execution_count": 90,
     "metadata": {},
     "output_type": "execute_result"
    }
   ],
   "source": [
    "# New LR\n",
    "New_LR_acc = gridresult.score(X_test, y_test)\n",
    "New_LR_pre = precision_score(y_test, y_pred)\n",
    "New_LR_rec = recall_score(y_test, y_pred)\n",
    "New_LR_f1 = f1_score(y_test, y_pred)\n",
    "New_LR_roc_auc = roc_auc_score(y_test, y_pred)\n",
    "\n",
    "# dictionary of lists \n",
    "dict = {'Classifiers': 'New Logistic Regression', 'Accuracy': New_LR_acc, 'Precision': New_LR_pre, 'Recall': New_LR_rec , 'F1 Score': New_LR_f1, 'ROC-AUC': New_LR_roc_auc} \n",
    "    \n",
    "df_New_LR = pd.DataFrame(dict, index=[0])\n",
    "combined_df = pd.concat([df, df_New_LR], ignore_index=True)\n",
    "filter = combined_df[0:6:5]\n",
    "filter"
   ]
  },
  {
   "cell_type": "markdown",
   "metadata": {},
   "source": [
    "## Compare the Tuning Results"
   ]
  },
  {
   "cell_type": "code",
   "execution_count": 91,
   "metadata": {},
   "outputs": [
    {
     "data": {
      "image/png": "[encoded data removed]",
      "text/plain": [
       "<Figure size 864x360 with 3 Axes>"
      ]
     },
     "metadata": {},
     "output_type": "display_data"
    }
   ],
   "source": [
    "plt.figure(figsize=(12,5))\n",
    "plt.subplot(1, 3, 1)\n",
    "\n",
    "ax = sns.barplot(y='Precision', x='Classifiers', data=filter, palette='flare')\n",
    "plt.title('Precision slightly dropped.')\n",
    "ax.set(xlabel=None)\n",
    "ax.set(ylabel=None)  \n",
    "ax.set_ylim(0, .85)\n",
    "for container in ax.containers:\n",
    "    ax.bar_label(container)\n",
    "\n",
    "plt.subplot(1, 3, 2)\n",
    "ax = sns.barplot(y='Recall', x='Classifiers', data=filter, palette='flare')\n",
    "for container in ax.containers:\n",
    "    ax.bar_label(container)\n",
    "plt.title('Recall increased a little more.')\n",
    "ax.set(xlabel=None)\n",
    "ax.set(ylabel=None)  \n",
    "ax.set_ylim(0, .85)\n",
    "\n",
    "plt.subplot(1, 3, 3)\n",
    "ax = sns.barplot(y='Accuracy', x='Classifiers', data=filter, palette='flare')\n",
    "plt.title('lol')\n",
    "for container in ax.containers:\n",
    "    ax.bar_label(container)\n",
    "ax.set(xlabel=None) \n",
    "plt.title('Accuracy slightly increased.')\n",
    "ax.set(xlabel=None)\n",
    "ax.set(ylabel=None)\n",
    "ax.set_ylim(0, .85)  \n",
    "\n",
    "plt.tight_layout()\n",
    "plt.show()"
   ]
  },
  {
   "cell_type": "code",
   "execution_count": 92,
   "metadata": {},
   "outputs": [
    {
     "data": {
      "image/png": "[encoded data removed]",
      "text/plain": [
       "<Figure size 864x360 with 2 Axes>"
      ]
     },
     "metadata": {},
     "output_type": "display_data"
    }
   ],
   "source": [
    "plt.figure(figsize=(12,5))\n",
    "plt.subplot(1, 2, 1)\n",
    "\n",
    "ax = sns.barplot(y='F1 Score', x='Classifiers', data=filter, palette='flare')\n",
    "plt.title('F1 slightly increased.')\n",
    "ax.set(xlabel=None)\n",
    "ax.set(ylabel=None)  \n",
    "ax.set_ylim(0, .9)\n",
    "for container in ax.containers:\n",
    "    ax.bar_label(container)\n",
    "\n",
    "plt.subplot(1, 2, 2)\n",
    "ax = sns.barplot(y='ROC-AUC', x='Classifiers', data=filter, palette='flare')\n",
    "for container in ax.containers:\n",
    "    ax.bar_label(container)\n",
    "plt.title('ROC-AUC significantly dropped.')\n",
    "ax.set(xlabel=None)\n",
    "ax.set(ylabel=None)  \n",
    "ax.set_ylim(0, .9)\n",
    "\n",
    "\n",
    "plt.tight_layout()\n",
    "plt.show()"
   ]
  },
  {
   "cell_type": "markdown",
   "metadata": {},
   "source": [
    "# Points to Consider "
   ]
  },
  {
   "cell_type": "markdown",
   "metadata": {},
   "source": [
    "> When to predict?\n",
    "- Predict on a monthly basis so that we have enough time for implementing intervention measures for potential churners."
   ]
  },
  {
   "cell_type": "markdown",
   "metadata": {},
   "source": [
    "> Business areas to improve:\n",
    "- Examine the differences of Internet service offers between the company and its competitors (speed, price, customer service support)"
   ]
  },
  {
   "cell_type": "markdown",
   "metadata": {},
   "source": [
    "## ______________________________________________________________"
   ]
  },
  {
   "cell_type": "code",
   "execution_count": null,
   "metadata": {},
   "outputs": [],
   "source": [
    "# Confusion Matrix"
   ]
  },
  {
   "cell_type": "code",
   "execution_count": 93,
   "metadata": {},
   "outputs": [
    {
     "data": {
      "image/png": "[encoded data removed]",
      "text/plain": [
       "<Figure size 720x576 with 2 Axes>"
      ]
     },
     "metadata": {},
     "output_type": "display_data"
    }
   ],
   "source": [
    "plt.figure(figsize=(10,8))\n",
    "cm_LR = confusion_matrix(y_test, y_pred)\n",
    "class_names = ['Not Churn', 'Churn']\n",
    "df_cm = pd.DataFrame(cm_LR, index=class_names, columns=class_names)\n",
    "#plt.figure(figsize = (10,7))\n",
    "ax = sns.heatmap(df_cm, annot=True, fmt='d')\n",
    "plt.title('LR with New Hyperparameters', fontsize=15)\n",
    "ax.set_ylabel('Truth')\n",
    "ax.set_xlabel('Prediction')\n",
    "#sns.set(font_scale=1)\n",
    "plt.show()"
   ]
  },
  {
   "cell_type": "code",
   "execution_count": 94,
   "metadata": {},
   "outputs": [
    {
     "data": {
      "text/plain": [
       "\"fig, axes = plt.subplots(1, 2, sharex=True, figsize=(20,7))\\nfig.suptitle('After Hyperparameter Tuning')\\n\\n#Old LR\\ncm_LR = confusion_matrix(y, cross_val_predict(model_New_LR, X, y, cv=skf))\\nclass_names = ['Not Churn', 'Churn']\\ndf_cm = pd.DataFrame(cm_LR, index=class_names, columns=class_names)\\n#plt.figure(figsize = (10,7))\\nsns.heatmap(df_cm, annot=True, fmt='d', ax=axes[0])\\naxes[0].set_title('LR with Default Hyperparameters')\\naxes[0].set_ylabel('Truth')\\naxes[0].set_xlabel('Prediction')\\n\\n#New LR\\ncm_LR = confusion_matrix(y_test, y_pred)\\nclass_names = ['Not Churn', 'Churn']\\ndf_cm = pd.DataFrame(cm_LR, index=class_names, columns=class_names)\\n#plt.figure(figsize = (10,7))\\nsns.heatmap(df_cm, annot=True, fmt='d', ax=axes[1])\\naxes[1].set_title('LR with New Hyperparameters')\\naxes[1].set_ylabel('Truth')\\naxes[1].set_xlabel('Prediction')\\nplt.show()\""
      ]
     },
     "execution_count": 94,
     "metadata": {},
     "output_type": "execute_result"
    }
   ],
   "source": [
    "'''fig, axes = plt.subplots(1, 2, sharex=True, figsize=(20,7))\n",
    "fig.suptitle('After Hyperparameter Tuning')\n",
    "\n",
    "#Old LR\n",
    "cm_LR = confusion_matrix(y, cross_val_predict(model_New_LR, X, y, cv=skf))\n",
    "class_names = ['Not Churn', 'Churn']\n",
    "df_cm = pd.DataFrame(cm_LR, index=class_names, columns=class_names)\n",
    "#plt.figure(figsize = (10,7))\n",
    "sns.heatmap(df_cm, annot=True, fmt='d', ax=axes[0])\n",
    "axes[0].set_title('LR with Default Hyperparameters')\n",
    "axes[0].set_ylabel('Truth')\n",
    "axes[0].set_xlabel('Prediction')\n",
    "\n",
    "#New LR\n",
    "cm_LR = confusion_matrix(y_test, y_pred)\n",
    "class_names = ['Not Churn', 'Churn']\n",
    "df_cm = pd.DataFrame(cm_LR, index=class_names, columns=class_names)\n",
    "#plt.figure(figsize = (10,7))\n",
    "sns.heatmap(df_cm, annot=True, fmt='d', ax=axes[1])\n",
    "axes[1].set_title('LR with New Hyperparameters')\n",
    "axes[1].set_ylabel('Truth')\n",
    "axes[1].set_xlabel('Prediction')\n",
    "plt.show()'''"
   ]
  }
 ],
 "metadata": {
  "interpreter": {
   "hash": "fe0a445f6f2b76874697cb4ac4eba6d2f4419b23409198845ed99b37883f80f7"
  },
  "kernelspec": {
   "display_name": "Python 3.9.7 64-bit ('base': conda)",
   "language": "python",
   "name": "python3"
  },
  "language_info": {
   "codemirror_mode": {
    "name": "ipython",
    "version": 3
   },
   "file_extension": ".py",
   "mimetype": "text/x-python",
   "name": "python",
   "nbconvert_exporter": "python",
   "pygments_lexer": "ipython3",
   "version": "3.8.12"
  },
  "orig_nbformat": 4
 },
 "nbformat": 4,
 "nbformat_minor": 2
}
